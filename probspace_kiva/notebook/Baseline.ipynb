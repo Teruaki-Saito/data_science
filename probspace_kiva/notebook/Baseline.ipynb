{
 "cells": [
  {
   "cell_type": "code",
   "execution_count": 1,
   "id": "e4605bfa-a619-4eda-9f60-1f80fa710e00",
   "metadata": {},
   "outputs": [
    {
     "name": "stderr",
     "output_type": "stream",
     "text": [
      "/Users/saitouteruaki/.local/share/virtualenvs/data_science-EJAMj-NW/lib/python3.10/site-packages/xgboost/compat.py:36: FutureWarning: pandas.Int64Index is deprecated and will be removed from pandas in a future version. Use pandas.Index with the appropriate dtype instead.\n",
      "  from pandas import MultiIndex, Int64Index\n"
     ]
    }
   ],
   "source": [
    "import pandas as pd\n",
    "import numpy as np\n",
    "import talib\n",
    "import pandas_profiling as pdp\n",
    "import sweetviz as sv\n",
    "\n",
    "import os\n",
    "import sys\n",
    "from pygam import s, LinearGAM\n",
    "import category_encoders as ce\n",
    "from typing import List, Dict\n",
    "\n",
    "import matplotlib.pyplot as plt\n",
    "import seaborn as sns\n",
    "\n",
    "import ptitprince\n",
    "from matplotlib_venn import venn2\n",
    "plt.rcParams['font.family'] = 'Hiragino Maru Gothic Pro'\n",
    "\n",
    "from common_module.utils.plot import (\n",
    "    plot_venn,\n",
    "    plot_histogram,\n",
    "    plot_raincloud,\n",
    "    plot_heatmap,\n",
    "    plot_histgram_for_valid,\n",
    "    plot_lineargam,\n",
    "    plot_feature_importance_for_valid\n",
    ")\n",
    "from common_module.utils.summarize import (\n",
    "    get_pandas_profiling,\n",
    "    get_sweetviz_report\n",
    ")\n",
    "from common_module.utils.preprocessor import (\n",
    "    OrdinalEncodingBlock,\n",
    "    CountEncodingBlock,\n",
    "    GroupingBlock\n",
    ")\n",
    "from common_module.utils.format_df import format_df\n",
    "from common_module.utils.utils import (\n",
    "    reduce_mem_usage,\n",
    "    save_pickle,\n",
    "    load_pickle\n",
    ")\n",
    "from common_module.utils.metrics import (\n",
    "    calc_MAE,\n",
    "    calc_MSE,\n",
    "    calc_RMSE,\n",
    "    calc_RMSLE\n",
    ")\n",
    "\n",
    "from probspace_kiva.modules.config_manager import ConfigManager\n",
    "# from probspace_kiva.modules.preprocessor import ConcatTrainTestDf\n",
    "# from probspace_kiva.modules.features import FeatureEngineering\n",
    "from probspace_kiva.modules.validator import (\n",
    "    make_KFold,\n",
    "    add_true_for_valid\n",
    ")\n",
    "from probspace_kiva.modules.train_module import (\n",
    "    TrainLGBModule,\n",
    "    TrainCABModule,\n",
    "    TrainXGBModule\n",
    ")\n",
    "from probspace_kiva.modules.predict import PredictModule\n",
    "# from probspace_kiva.modules.adversarial_validator import AdversarialValidator\n",
    "\n",
    "\n",
    "sys.path.append(\"../\")\n",
    "pd.set_option('display.max_columns', 200)\n",
    "pd.set_option('display.max_rows', 100)\n",
    "\n",
    "import warnings\n",
    "warnings.filterwarnings('ignore')\n",
    "\n",
    "%matplotlib inline"
   ]
  },
  {
   "cell_type": "markdown",
   "id": "3938a77c-9b90-4a6e-8929-3525aa4d8b55",
   "metadata": {},
   "source": [
    "## config"
   ]
  },
  {
   "cell_type": "code",
   "execution_count": 2,
   "id": "75ea1efe-b2d7-4731-a327-fa23007ac83a",
   "metadata": {},
   "outputs": [],
   "source": [
    "input_path = \"../input/\"\n",
    "output_path = \"../output/\""
   ]
  },
  {
   "cell_type": "markdown",
   "id": "ef43c3a2-de88-4ff5-98b8-bb6fb8ab153a",
   "metadata": {},
   "source": [
    "## データ読み込み"
   ]
  },
  {
   "cell_type": "code",
   "execution_count": 3,
   "id": "d8d82acd-83f1-4920-8693-0dcf5fde17cd",
   "metadata": {},
   "outputs": [
    {
     "name": "stdout",
     "output_type": "stream",
     "text": [
      "df_train_origin: (91333, 18)\n",
      "df_test_origin: (91822, 17)\n",
      "df_sample: (91822, 2)\n"
     ]
    }
   ],
   "source": [
    "df_train_origin = pd.read_csv(os.path.join(input_path, \"train.csv\"), encoding=\"utf-8-sig\")\n",
    "df_test_origin = pd.read_csv(os.path.join(input_path, \"test.csv\"), encoding=\"utf-8-sig\")\n",
    "df_sample = pd.read_csv(os.path.join(input_path, \"sample_submission.csv\"), encoding=\"utf-8-sig\")\n",
    "\n",
    "print(f\"df_train_origin: {df_train_origin.shape}\")\n",
    "print(f\"df_test_origin: {df_test_origin.shape}\")\n",
    "print(f\"df_sample: {df_sample.shape}\")"
   ]
  },
  {
   "cell_type": "markdown",
   "id": "5c4a592d-f448-465e-820d-5bc89e8b4130",
   "metadata": {},
   "source": [
    "## EDA"
   ]
  },
  {
   "cell_type": "markdown",
   "id": "309eb80c-2771-4ed3-9f28-698226238a59",
   "metadata": {},
   "source": [
    "### profile"
   ]
  },
  {
   "cell_type": "code",
   "execution_count": 10,
   "id": "01d7f442-529e-4685-a192-b933933433ed",
   "metadata": {},
   "outputs": [],
   "source": [
    "# 実行失敗\n",
    "# get_pandas_profiling(df=df_train_origin, output_path=output_path, output_name=\"pandas_train_profile\")\n",
    "# get_pandas_profiling(df=df_test_origin, output_path=output_path, output_name=\"pandas_test_profile\")"
   ]
  },
  {
   "cell_type": "code",
   "execution_count": 11,
   "id": "55222c7d-865c-410b-bbfe-ff8785c4199f",
   "metadata": {},
   "outputs": [
    {
     "data": {
      "application/vnd.jupyter.widget-view+json": {
       "model_id": "645692bf9cf14bbe8d36334acaa685a0",
       "version_major": 2,
       "version_minor": 0
      },
      "text/plain": [
       "                                             |                                                                …"
      ]
     },
     "metadata": {},
     "output_type": "display_data"
    },
    {
     "name": "stdout",
     "output_type": "stream",
     "text": [
      "Report ../output/sweetviz_report.html was generated! NOTEBOOK/COLAB USERS: the web browser MAY not pop up, regardless, the report IS saved in your notebook/colab files.\n"
     ]
    }
   ],
   "source": [
    "# 実行成功\n",
    "# get_sweetviz_report(train=df_train_origin, test=df_test_origin, output_path=output_path, output_name=\"sweetviz_report\")"
   ]
  },
  {
   "cell_type": "markdown",
   "id": "c65a34bd-bbea-4daa-aaf0-ef61746fca6d",
   "metadata": {},
   "source": [
    "## BaseLine"
   ]
  },
  {
   "cell_type": "markdown",
   "id": "575ce1da-0874-4625-a570-eb204899c855",
   "metadata": {},
   "source": [
    "### 方針\n",
    "- 特徴量\n",
    "    - ORIGINAL_LANGUAGE: category\n",
    "    - ACTIVITY_NAME: category\n",
    "    - SECTOR_NAME: category\n",
    "    - COUNTRY_NAME: category\n",
    "    - CURRENCY_POLICY: category\n",
    "    - CURRENCY: category\n",
    "    - REPAYMENT_INTERVAL: category\n",
    "- 目的変数\n",
    "    - LOAN_AMOUNT_log1p: LOAN_AMOUNTを対数変換させたもの。対数取るとおおよそ正規分布になる\n",
    "- 損失関数\n",
    "    - RMSE: 評価関数はMAEだけど正解/予測の比率を1に近づければMAEも低くなるのではという発想\n",
    "- モデル\n",
    "    - LightGBM\n",
    "- CV\n",
    "    - KFold\n",
    "- 結果\n",
    "    - 上記だけでは分割できないため、同じ結果になっているLOAN＿IDが複数あった"
   ]
  },
  {
   "cell_type": "code",
   "execution_count": 13,
   "id": "28fcb330-5c12-48d0-aaa3-9cdd1bcada59",
   "metadata": {},
   "outputs": [
    {
     "name": "stdout",
     "output_type": "stream",
     "text": [
      "Memory usage of dataframe is 12.54 MB\n",
      "Memory usage after optimization is: 12.00 MB\n",
      "Decreased by 4.4%\n",
      "Memory usage of dataframe is 11.91 MB\n",
      "Memory usage after optimization is: 11.77 MB\n",
      "Decreased by 1.2%\n"
     ]
    }
   ],
   "source": [
    "# config読み込み\n",
    "config = ConfigManager(config_path=\"../config/baseline_setting.yaml\")\n",
    "\n",
    "# データ型を修正しメモリを削減する\n",
    "df_train = reduce_mem_usage(df_train_origin)\n",
    "df_test = reduce_mem_usage(df_test_origin)\n",
    "# dtypeのフォーマット修正\n",
    "df_train = format_df(df_train, dtype_definition=config.feature_columns)\n",
    "df_test = format_df(df_test, dtype_definition=config.feature_columns)\n",
    "# 目的変数作成\n",
    "df_train[\"LOAN_AMOUNT_log1p\"] = np.log1p(df_train[\"LOAN_AMOUNT\"])"
   ]
  },
  {
   "cell_type": "code",
   "execution_count": 14,
   "id": "f8b959b2-998b-4fe4-930f-197f14dde23c",
   "metadata": {},
   "outputs": [
    {
     "name": "stdout",
     "output_type": "stream",
     "text": [
      "train LOAN_AMOUNT_log1p ...\n",
      "Training until validation scores don't improve for 100 rounds\n",
      "Early stopping, best iteration is:\n",
      "[160]\ttrain's rmse: 0.546695\tvalid's rmse: 0.563699\n",
      "pred LOAN_AMOUNT_log1p ...\n",
      "■ target_col=LOAN_AMOUNT_log1p | cv_num=0 | mae_score=309.7270\n",
      "pred LOAN_AMOUNT_log1p ...\n",
      "======================================================================\n",
      "Training until validation scores don't improve for 100 rounds\n",
      "Early stopping, best iteration is:\n",
      "[177]\ttrain's rmse: 0.546994\tvalid's rmse: 0.563006\n",
      "pred LOAN_AMOUNT_log1p ...\n",
      "■ target_col=LOAN_AMOUNT_log1p | cv_num=1 | mae_score=312.1025\n",
      "pred LOAN_AMOUNT_log1p ...\n",
      "======================================================================\n",
      "Training until validation scores don't improve for 100 rounds\n",
      "Early stopping, best iteration is:\n",
      "[160]\ttrain's rmse: 0.547911\tvalid's rmse: 0.560284\n",
      "pred LOAN_AMOUNT_log1p ...\n",
      "■ target_col=LOAN_AMOUNT_log1p | cv_num=2 | mae_score=309.5413\n",
      "pred LOAN_AMOUNT_log1p ...\n",
      "======================================================================\n",
      "Training until validation scores don't improve for 100 rounds\n",
      "Early stopping, best iteration is:\n",
      "[187]\ttrain's rmse: 0.546741\tvalid's rmse: 0.561845\n",
      "pred LOAN_AMOUNT_log1p ...\n",
      "■ target_col=LOAN_AMOUNT_log1p | cv_num=3 | mae_score=314.8143\n",
      "pred LOAN_AMOUNT_log1p ...\n",
      "======================================================================\n",
      "Training until validation scores don't improve for 100 rounds\n",
      "Early stopping, best iteration is:\n",
      "[163]\ttrain's rmse: 0.548293\tvalid's rmse: 0.558361\n",
      "pred LOAN_AMOUNT_log1p ...\n",
      "■ target_col=LOAN_AMOUNT_log1p | cv_num=4 | mae_score=309.0321\n",
      "pred LOAN_AMOUNT_log1p ...\n",
      "======================================================================\n",
      "~~~~~~~~~~~~~~~~~~~~~~~~~~~~~~~~~~~~~~~~~~~~~~~~~~~~~~~~~~~~~~~~~~~~~~\n",
      "■ target_col=LOAN_AMOUNT_log1p | mae_score=311.0434\n"
     ]
    }
   ],
   "source": [
    "model_set = {}\n",
    "importance_set = {}\n",
    "evals_set = {}\n",
    "df_val_set = {}\n",
    "df_test_set = {}\n",
    "df_val_list = []\n",
    "df_test_list = []\n",
    "\n",
    "print(f\"train {config.target} ...\")\n",
    "# インスタンス生成\n",
    "ins_lgb_train = TrainLGBModule(config=config, target=config.target, exec_advasarial_validation=False)\n",
    "ins_lgb_val_pred = PredictModule(config=config, target=config.target, model_type=\"lightgbm\", is_test=False, clip=False)\n",
    "ins_lgb_test_pred = PredictModule(config=config, target=config.target, model_type=\"lightgbm\", is_test=True, clip=False)\n",
    "\n",
    "# kfolds\n",
    "folds_idx = make_KFold(\n",
    "    train_x=df_train,\n",
    "    train_y=df_train[config.target],\n",
    "    n_splits=config.n_splits,\n",
    "    random_state=config.random_state\n",
    ")\n",
    "# 学習\n",
    "for cv_num, (tr_idx, va_idx) in enumerate(folds_idx):\n",
    "    df_train_t, df_train_v = df_train.loc[tr_idx, :], df_train.loc[va_idx, :]\n",
    "    model_lgb, df_imp_lgb, evals_result_lgb = ins_lgb_train.train_model(train=df_train_t, valid=df_train_v, have_weight=False)\n",
    "    # dataset への保存\n",
    "    model_set[f\"{config.target}_{cv_num}\"] = model_lgb\n",
    "    importance_set[f\"{config.target}_{cv_num}\"] = df_imp_lgb\n",
    "    evals_set[f\"{config.target}_{cv_num}\"] = evals_result_lgb\n",
    "    # validationデータを予測\n",
    "    df_val_pred_lgb = ins_lgb_val_pred.predict(model=model_lgb, test_df=df_train_v, cv_num=cv_num)\n",
    "    df_val = add_true_for_valid(origin_df=df_train_v, pred_df=df_val_pred_lgb, target=config.target, cv_num=cv_num, config=config)\n",
    "    use_cols = [f\"true_{config.target}\", f\"pred_{config.target}\"]\n",
    "    df_val[f\"true_{config.target}_expm1y\"] = np.expm1(df_val[f\"true_{config.target}\"])\n",
    "    df_val[f\"pred_{config.target}_expm1y\"] = np.expm1(df_val[f\"pred_{config.target}\"])\n",
    "    mae_score = calc_MAE(\n",
    "        y_true=df_val[f\"true_{config.target}_expm1y\"],\n",
    "        y_pred=df_val[f\"pred_{config.target}_expm1y\"]\n",
    "    )\n",
    "    print(f\"■ target_col={config.target} | cv_num={cv_num} | mae_score={mae_score:.4f}\")\n",
    "    df_val_set[f\"{config.target}_{cv_num}\"] = df_val\n",
    "    df_val_list.append(df_val)\n",
    "    # testデータを予測\n",
    "    df_test_pred_lgb = ins_lgb_test_pred.predict(model=model_lgb, test_df=df_test, cv_num=cv_num)\n",
    "    df_test_pred_lgb[f\"pred_{config.target}_expm1y\"] = np.expm1(df_test_pred_lgb[f\"pred_{config.target}\"])\n",
    "    df_test_set[f\"{config.target}_{cv_num}\"] = df_test_pred_lgb\n",
    "    df_test_list.append(df_test_pred_lgb)\n",
    "    print(\"=\" * 70)\n",
    "\n",
    "# validationデータ全体のcvスコア\n",
    "print(\"~\" * 70)\n",
    "df_valid_results = pd.concat(df_val_list, ignore_index=True, sort=False)\n",
    "mae_score_all = calc_MAE(\n",
    "    y_true=df_valid_results[f\"true_{config.target}_expm1y\"],\n",
    "    y_pred=df_valid_results[f\"pred_{config.target}_expm1y\"]\n",
    ")\n",
    "print(f\"■ target_col={config.target} | mae_score={mae_score_all:.4f}\")"
   ]
  },
  {
   "cell_type": "code",
   "execution_count": 15,
   "id": "6961d21c-7057-4457-87af-6e1053ec7546",
   "metadata": {},
   "outputs": [
    {
     "data": {
      "image/png": "[encoded data removed]",
      "text/plain": [
       "<Figure size 432x216 with 1 Axes>"
      ]
     },
     "metadata": {
      "needs_background": "light"
     },
     "output_type": "display_data"
    }
   ],
   "source": [
    "df_imp_ = df_imp_lgb.sort_values(\"gain\", ascending=False)\n",
    "plt.figure(figsize=(6, 3))\n",
    "sns.barplot(x=df_imp_[\"gain\"], y=df_imp_[\"feature\"]);"
   ]
  },
  {
   "cell_type": "code",
   "execution_count": 16,
   "id": "46eb4afc-cbcd-4778-9cff-3dc0abff6c0e",
   "metadata": {},
   "outputs": [],
   "source": [
    "# cv回数分のtest結果の中央値を最終結果とする\n",
    "df_test_concat = pd.concat(df_test_list, ignore_index=True, sort=False)\n",
    "df_test_results = df_test_concat.groupby(\"LOAN_ID\", as_index=False)[f\"pred_{config.target}_expm1y\"].mean()\n",
    "df_test_results.columns = [\"LOAN_ID\", \"LOAN_AMOUNT\"]\n",
    "df_test_results = df_test_results.sort_values(\"LOAN_ID\")\n",
    "df_test_results.to_csv(os.path.join(config.output_path, \"submission_1.csv\"), encoding=\"utf-8-sig\", index=False)"
   ]
  },
  {
   "cell_type": "code",
   "execution_count": 17,
   "id": "61fb3dc1-a458-456a-bffc-4936eb34a1e6",
   "metadata": {},
   "outputs": [
    {
     "data": {
      "text/html": [
       "<div>\n",
       "<style scoped>\n",
       "    .dataframe tbody tr th:only-of-type {\n",
       "        vertical-align: middle;\n",
       "    }\n",
       "\n",
       "    .dataframe tbody tr th {\n",
       "        vertical-align: top;\n",
       "    }\n",
       "\n",
       "    .dataframe thead th {\n",
       "        text-align: right;\n",
       "    }\n",
       "</style>\n",
       "<table border=\"1\" class=\"dataframe\">\n",
       "  <thead>\n",
       "    <tr style=\"text-align: right;\">\n",
       "      <th></th>\n",
       "      <th>LOAN_ID</th>\n",
       "      <th>LOAN_AMOUNT</th>\n",
       "    </tr>\n",
       "  </thead>\n",
       "  <tbody>\n",
       "    <tr>\n",
       "      <th>0</th>\n",
       "      <td>1904656</td>\n",
       "      <td>2986.500277</td>\n",
       "    </tr>\n",
       "    <tr>\n",
       "      <th>1</th>\n",
       "      <td>1904657</td>\n",
       "      <td>2368.486435</td>\n",
       "    </tr>\n",
       "    <tr>\n",
       "      <th>2</th>\n",
       "      <td>1904659</td>\n",
       "      <td>349.331903</td>\n",
       "    </tr>\n",
       "    <tr>\n",
       "      <th>3</th>\n",
       "      <td>1904660</td>\n",
       "      <td>349.331903</td>\n",
       "    </tr>\n",
       "    <tr>\n",
       "      <th>4</th>\n",
       "      <td>1904661</td>\n",
       "      <td>349.331903</td>\n",
       "    </tr>\n",
       "  </tbody>\n",
       "</table>\n",
       "</div>"
      ],
      "text/plain": [
       "   LOAN_ID  LOAN_AMOUNT\n",
       "0  1904656  2986.500277\n",
       "1  1904657  2368.486435\n",
       "2  1904659   349.331903\n",
       "3  1904660   349.331903\n",
       "4  1904661   349.331903"
      ]
     },
     "execution_count": 17,
     "metadata": {},
     "output_type": "execute_result"
    }
   ],
   "source": [
    "df_test_results.head()"
   ]
  },
  {
   "cell_type": "code",
   "execution_count": 18,
   "id": "bbf5c61f-428c-4d29-8adb-2f32c47337e6",
   "metadata": {},
   "outputs": [
    {
     "data": {
      "text/html": [
       "<div>\n",
       "<style scoped>\n",
       "    .dataframe tbody tr th:only-of-type {\n",
       "        vertical-align: middle;\n",
       "    }\n",
       "\n",
       "    .dataframe tbody tr th {\n",
       "        vertical-align: top;\n",
       "    }\n",
       "\n",
       "    .dataframe thead th {\n",
       "        text-align: right;\n",
       "    }\n",
       "</style>\n",
       "<table border=\"1\" class=\"dataframe\">\n",
       "  <thead>\n",
       "    <tr style=\"text-align: right;\">\n",
       "      <th></th>\n",
       "      <th>LOAN_ID</th>\n",
       "      <th>ORIGINAL_LANGUAGE</th>\n",
       "      <th>DESCRIPTION</th>\n",
       "      <th>DESCRIPTION_TRANSLATED</th>\n",
       "      <th>IMAGE_ID</th>\n",
       "      <th>ACTIVITY_NAME</th>\n",
       "      <th>SECTOR_NAME</th>\n",
       "      <th>LOAN_USE</th>\n",
       "      <th>COUNTRY_CODE</th>\n",
       "      <th>COUNTRY_NAME</th>\n",
       "      <th>TOWN_NAME</th>\n",
       "      <th>CURRENCY_POLICY</th>\n",
       "      <th>CURRENCY_EXCHANGE_COVERAGE_RATE</th>\n",
       "      <th>CURRENCY</th>\n",
       "      <th>TAGS</th>\n",
       "      <th>REPAYMENT_INTERVAL</th>\n",
       "      <th>DISTRIBUTION_MODEL</th>\n",
       "    </tr>\n",
       "  </thead>\n",
       "  <tbody>\n",
       "    <tr>\n",
       "      <th>6312</th>\n",
       "      <td>1904660</td>\n",
       "      <td>English</td>\n",
       "      <td>Meet Catherine 50, (pictured with her farming ...</td>\n",
       "      <td>Meet Catherine 50, (pictured with her farming ...</td>\n",
       "      <td>3348720</td>\n",
       "      <td>Farming</td>\n",
       "      <td>Agriculture</td>\n",
       "      <td>\\tto buy farm inputs such as high-quality fert...</td>\n",
       "      <td>KE</td>\n",
       "      <td>Kenya</td>\n",
       "      <td>Kapcherop</td>\n",
       "      <td>shared</td>\n",
       "      <td>0.0</td>\n",
       "      <td>KES</td>\n",
       "      <td>NaN</td>\n",
       "      <td>monthly</td>\n",
       "      <td>field_partner</td>\n",
       "    </tr>\n",
       "    <tr>\n",
       "      <th>35906</th>\n",
       "      <td>1904659</td>\n",
       "      <td>English</td>\n",
       "      <td>Meet Jones (pictured in his tea plantation).\\n...</td>\n",
       "      <td>Meet Jones (pictured in his tea plantation).\\n...</td>\n",
       "      <td>3348729</td>\n",
       "      <td>Farming</td>\n",
       "      <td>Agriculture</td>\n",
       "      <td>a single dad of 2 to purchase farming inputs s...</td>\n",
       "      <td>KE</td>\n",
       "      <td>Kenya</td>\n",
       "      <td>Nyamira</td>\n",
       "      <td>shared</td>\n",
       "      <td>0.0</td>\n",
       "      <td>KES</td>\n",
       "      <td>NaN</td>\n",
       "      <td>monthly</td>\n",
       "      <td>field_partner</td>\n",
       "    </tr>\n",
       "    <tr>\n",
       "      <th>76426</th>\n",
       "      <td>1904661</td>\n",
       "      <td>English</td>\n",
       "      <td>Mary’s (65 years old mom of 4) curiosity and n...</td>\n",
       "      <td>Mary’s (65 years old mom of 4) curiosity and n...</td>\n",
       "      <td>3348715</td>\n",
       "      <td>Farming</td>\n",
       "      <td>Agriculture</td>\n",
       "      <td>\\tto purchase farming inputs such as high-nutr...</td>\n",
       "      <td>KE</td>\n",
       "      <td>Kenya</td>\n",
       "      <td>litein</td>\n",
       "      <td>shared</td>\n",
       "      <td>0.0</td>\n",
       "      <td>KES</td>\n",
       "      <td>#Elderly, user_favorite, user_favorite</td>\n",
       "      <td>monthly</td>\n",
       "      <td>field_partner</td>\n",
       "    </tr>\n",
       "  </tbody>\n",
       "</table>\n",
       "</div>"
      ],
      "text/plain": [
       "       LOAN_ID ORIGINAL_LANGUAGE  \\\n",
       "6312   1904660           English   \n",
       "35906  1904659           English   \n",
       "76426  1904661           English   \n",
       "\n",
       "                                             DESCRIPTION  \\\n",
       "6312   Meet Catherine 50, (pictured with her farming ...   \n",
       "35906  Meet Jones (pictured in his tea plantation).\\n...   \n",
       "76426  Mary’s (65 years old mom of 4) curiosity and n...   \n",
       "\n",
       "                                  DESCRIPTION_TRANSLATED  IMAGE_ID  \\\n",
       "6312   Meet Catherine 50, (pictured with her farming ...   3348720   \n",
       "35906  Meet Jones (pictured in his tea plantation).\\n...   3348729   \n",
       "76426  Mary’s (65 years old mom of 4) curiosity and n...   3348715   \n",
       "\n",
       "      ACTIVITY_NAME  SECTOR_NAME  \\\n",
       "6312        Farming  Agriculture   \n",
       "35906       Farming  Agriculture   \n",
       "76426       Farming  Agriculture   \n",
       "\n",
       "                                                LOAN_USE COUNTRY_CODE  \\\n",
       "6312   \\tto buy farm inputs such as high-quality fert...           KE   \n",
       "35906  a single dad of 2 to purchase farming inputs s...           KE   \n",
       "76426  \\tto purchase farming inputs such as high-nutr...           KE   \n",
       "\n",
       "      COUNTRY_NAME  TOWN_NAME CURRENCY_POLICY  \\\n",
       "6312         Kenya  Kapcherop          shared   \n",
       "35906        Kenya    Nyamira          shared   \n",
       "76426        Kenya     litein          shared   \n",
       "\n",
       "       CURRENCY_EXCHANGE_COVERAGE_RATE CURRENCY  \\\n",
       "6312                               0.0      KES   \n",
       "35906                              0.0      KES   \n",
       "76426                              0.0      KES   \n",
       "\n",
       "                                         TAGS REPAYMENT_INTERVAL  \\\n",
       "6312                                      NaN            monthly   \n",
       "35906                                     NaN            monthly   \n",
       "76426  #Elderly, user_favorite, user_favorite            monthly   \n",
       "\n",
       "      DISTRIBUTION_MODEL  \n",
       "6312       field_partner  \n",
       "35906      field_partner  \n",
       "76426      field_partner  "
      ]
     },
     "execution_count": 18,
     "metadata": {},
     "output_type": "execute_result"
    }
   ],
   "source": [
    "df_test[df_test[\"LOAN_ID\"].isin([1904659, 1904660, 1904661])]"
   ]
  },
  {
   "cell_type": "code",
   "execution_count": 11,
   "id": "72e7c496-0d0d-4604-891d-a83860824adf",
   "metadata": {},
   "outputs": [
    {
     "data": {
      "text/plain": [
       "<AxesSubplot:ylabel='Frequency'>"
      ]
     },
     "execution_count": 11,
     "metadata": {},
     "output_type": "execute_result"
    },
    {
     "data": {
      "image/png": "[encoded data removed]",
      "text/plain": [
       "<Figure size 432x288 with 1 Axes>"
      ]
     },
     "metadata": {
      "needs_background": "light"
     },
     "output_type": "display_data"
    }
   ],
   "source": [
    "df_test_results[\"LOAN_AMOUNT\"].plot(kind=\"hist\")"
   ]
  }
 ],
 "metadata": {
  "kernelspec": {
   "display_name": "Python 3 (ipykernel)",
   "language": "python",
   "name": "python3"
  },
  "language_info": {
   "codemirror_mode": {
    "name": "ipython",
    "version": 3
   },
   "file_extension": ".py",
   "mimetype": "text/x-python",
   "name": "python",
   "nbconvert_exporter": "python",
   "pygments_lexer": "ipython3",
   "version": "3.10.1"
  }
 },
 "nbformat": 4,
 "nbformat_minor": 5
}
