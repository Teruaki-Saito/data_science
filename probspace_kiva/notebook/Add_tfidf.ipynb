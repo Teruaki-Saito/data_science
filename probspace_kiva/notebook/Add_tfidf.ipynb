{
 "cells": [
  {
   "cell_type": "code",
   "execution_count": 3,
   "id": "e4605bfa-a619-4eda-9f60-1f80fa710e00",
   "metadata": {},
   "outputs": [
    {
     "name": "stderr",
     "output_type": "stream",
     "text": [
      "[nltk_data] Downloading package stopwords to\n",
      "[nltk_data]     /Users/saitouteruaki/nltk_data...\n",
      "[nltk_data]   Package stopwords is already up-to-date!\n"
     ]
    }
   ],
   "source": [
    "import pandas as pd\n",
    "import numpy as np\n",
    "import talib\n",
    "import pandas_profiling as pdp\n",
    "import sweetviz as sv\n",
    "\n",
    "import os\n",
    "import sys\n",
    "from pygam import s, LinearGAM\n",
    "import category_encoders as ce\n",
    "from typing import List, Dict\n",
    "\n",
    "import matplotlib.pyplot as plt\n",
    "import seaborn as sns\n",
    "\n",
    "import ptitprince\n",
    "from matplotlib_venn import venn2\n",
    "plt.rcParams['font.family'] = 'Hiragino Maru Gothic Pro'\n",
    "\n",
    "from common_module.utils.plot import (\n",
    "    plot_venn,\n",
    "    plot_histogram,\n",
    "    plot_raincloud,\n",
    "    plot_heatmap,\n",
    "    plot_histgram_for_valid,\n",
    "    plot_lineargam,\n",
    "    plot_feature_importance_for_valid\n",
    ")\n",
    "from common_module.utils.summarize import (\n",
    "    get_pandas_profiling,\n",
    "    get_sweetviz_report\n",
    ")\n",
    "from common_module.utils.preprocessor import (\n",
    "    OrdinalEncodingBlock,\n",
    "    CountEncodingBlock,\n",
    "    GroupingBlock\n",
    ")\n",
    "from common_module.utils.format_df import format_df\n",
    "from common_module.utils.utils import (\n",
    "    reduce_mem_usage,\n",
    "    save_pickle,\n",
    "    load_pickle\n",
    ")\n",
    "from common_module.utils.metrics import (\n",
    "    calc_MAE,\n",
    "    calc_MSE,\n",
    "    calc_RMSE,\n",
    "    calc_RMSLE\n",
    ")\n",
    "\n",
    "from probspace_kiva.modules.config_manager import ConfigManager\n",
    "# from probspace_kiva.modules.preprocessor import ConcatTrainTestDf\n",
    "from probspace_kiva.modules.sentence_feature import CleanSentences, CreateSentenceFeatures\n",
    "from probspace_kiva.modules.validator import (\n",
    "    make_KFold,\n",
    "    add_true_for_valid\n",
    ")\n",
    "from probspace_kiva.modules.train_module import (\n",
    "    TrainLGBModule,\n",
    "    TrainCABModule,\n",
    "    TrainXGBModule\n",
    ")\n",
    "from probspace_kiva.modules.predict import PredictModule\n",
    "from probspace_kiva.modules.tfidf_svd import TfidfModule\n",
    "# from probspace_kiva.modules.adversarial_validator import AdversarialValidator\n",
    "\n",
    "\n",
    "sys.path.append(\"../\")\n",
    "pd.set_option('display.max_columns', 200)\n",
    "pd.set_option('display.max_rows', 100)\n",
    "\n",
    "import warnings\n",
    "warnings.filterwarnings('ignore')\n",
    "\n",
    "%matplotlib inline"
   ]
  },
  {
   "cell_type": "markdown",
   "id": "3938a77c-9b90-4a6e-8929-3525aa4d8b55",
   "metadata": {},
   "source": [
    "## config"
   ]
  },
  {
   "cell_type": "code",
   "execution_count": 4,
   "id": "75ea1efe-b2d7-4731-a327-fa23007ac83a",
   "metadata": {},
   "outputs": [],
   "source": [
    "input_path = \"../input/\"\n",
    "output_path = \"../output/\""
   ]
  },
  {
   "cell_type": "markdown",
   "id": "ef43c3a2-de88-4ff5-98b8-bb6fb8ab153a",
   "metadata": {},
   "source": [
    "## データ読み込み"
   ]
  },
  {
   "cell_type": "code",
   "execution_count": 5,
   "id": "d8d82acd-83f1-4920-8693-0dcf5fde17cd",
   "metadata": {},
   "outputs": [
    {
     "name": "stdout",
     "output_type": "stream",
     "text": [
      "df_train_origin: (91333, 18)\n",
      "df_test_origin: (91822, 17)\n",
      "df_sample: (91822, 2)\n"
     ]
    }
   ],
   "source": [
    "df_train_origin = pd.read_csv(os.path.join(input_path, \"train.csv\"), encoding=\"utf-8-sig\")\n",
    "df_test_origin = pd.read_csv(os.path.join(input_path, \"test.csv\"), encoding=\"utf-8-sig\")\n",
    "df_sample = pd.read_csv(os.path.join(input_path, \"sample_submission.csv\"), encoding=\"utf-8-sig\")\n",
    "\n",
    "print(f\"df_train_origin: {df_train_origin.shape}\")\n",
    "print(f\"df_test_origin: {df_test_origin.shape}\")\n",
    "print(f\"df_sample: {df_sample.shape}\")"
   ]
  },
  {
   "cell_type": "markdown",
   "id": "a4c3bbc5-9091-4250-be78-6d323ad9ffcd",
   "metadata": {},
   "source": [
    "## Config"
   ]
  },
  {
   "cell_type": "code",
   "execution_count": 6,
   "id": "9f99bbe6-cf21-454b-9738-545a7f8aab13",
   "metadata": {},
   "outputs": [],
   "source": [
    "# config読み込み\n",
    "config = ConfigManager(config_path=\"../config/add_tfidf_setting.yaml\")"
   ]
  },
  {
   "cell_type": "markdown",
   "id": "2a4f0bcc-7ffa-4820-acfc-5a5594c4de03",
   "metadata": {},
   "source": [
    "## tfidf Feature"
   ]
  },
  {
   "cell_type": "code",
   "execution_count": 16,
   "id": "d68a2813-5c2d-4e81-865e-c17d5442b4e5",
   "metadata": {},
   "outputs": [],
   "source": [
    "df_train = df_train_origin.copy()\n",
    "df_test = df_test_origin.copy()"
   ]
  },
  {
   "cell_type": "markdown",
   "id": "97411003-9626-4be0-baef-b5ce13c3e24c",
   "metadata": {},
   "source": [
    "### TAGS"
   ]
  },
  {
   "cell_type": "code",
   "execution_count": 8,
   "id": "f46ba356-264f-476c-8fbe-933a14acb247",
   "metadata": {},
   "outputs": [],
   "source": [
    "# train\n",
    "ins_tfidf_tags = TfidfModule(target=\"TAGS\")\n",
    "tfidf_vectorizer_tags, svd_tags, df_train_tfidf_tags = ins_tfidf_tags.fit_transform(dataframe=df_train)\n",
    "\n",
    "# test\n",
    "df_test_tfidf_tags = ins_tfidf_tags.transform(tfidf_vectorizer=tfidf_vectorizer_tags, svd=svd_tags, dataframe=df_test)"
   ]
  },
  {
   "cell_type": "markdown",
   "id": "63baac85-7dab-42ba-b6e9-e510eaa0dacd",
   "metadata": {},
   "source": [
    "### LOAN_USE"
   ]
  },
  {
   "cell_type": "code",
   "execution_count": 9,
   "id": "689440b8-be6e-4baa-bdf0-0a83dcd25822",
   "metadata": {},
   "outputs": [],
   "source": [
    "# train\n",
    "ins_tfidf_loanuse = TfidfModule(target=\"LOAN_USE\")\n",
    "tfidf_vectorizer_loanuse, svd_loanuse, df_train_tfidf_loanuse = ins_tfidf_loanuse.fit_transform(dataframe=df_train)\n",
    "\n",
    "# test\n",
    "df_test_tfidf_loanuse = ins_tfidf_loanuse.transform(tfidf_vectorizer=tfidf_vectorizer_loanuse, svd=svd_loanuse, dataframe=df_test)"
   ]
  },
  {
   "cell_type": "code",
   "execution_count": 10,
   "id": "959d7a5d-a834-4e39-ade3-a8f181f64977",
   "metadata": {},
   "outputs": [
    {
     "data": {
      "text/html": [
       "<div>\n",
       "<style scoped>\n",
       "    .dataframe tbody tr th:only-of-type {\n",
       "        vertical-align: middle;\n",
       "    }\n",
       "\n",
       "    .dataframe tbody tr th {\n",
       "        vertical-align: top;\n",
       "    }\n",
       "\n",
       "    .dataframe thead th {\n",
       "        text-align: right;\n",
       "    }\n",
       "</style>\n",
       "<table border=\"1\" class=\"dataframe\">\n",
       "  <thead>\n",
       "    <tr style=\"text-align: right;\">\n",
       "      <th></th>\n",
       "      <th>LOAN_ID</th>\n",
       "      <th>TAGS</th>\n",
       "      <th>fixed_TAGS</th>\n",
       "      <th>TFIDF_1_TAGS</th>\n",
       "      <th>TFIDF_2_TAGS</th>\n",
       "    </tr>\n",
       "  </thead>\n",
       "  <tbody>\n",
       "    <tr>\n",
       "      <th>0</th>\n",
       "      <td>2041445</td>\n",
       "      <td>NaN</td>\n",
       "      <td>nan</td>\n",
       "      <td>1.000000</td>\n",
       "      <td>-0.000058</td>\n",
       "    </tr>\n",
       "    <tr>\n",
       "      <th>1</th>\n",
       "      <td>1944435</td>\n",
       "      <td>#Animals, #Repeat Borrower, #Schooling, #Woman...</td>\n",
       "      <td>Animals Repeat Borrower Schooling Woman-Owned ...</td>\n",
       "      <td>0.000041</td>\n",
       "      <td>0.666592</td>\n",
       "    </tr>\n",
       "    <tr>\n",
       "      <th>2</th>\n",
       "      <td>2083354</td>\n",
       "      <td>#Parent, #Single Parent, #Woman-Owned Business</td>\n",
       "      <td>Parent Single Parent Woman-Owned Business</td>\n",
       "      <td>0.000038</td>\n",
       "      <td>0.585813</td>\n",
       "    </tr>\n",
       "    <tr>\n",
       "      <th>3</th>\n",
       "      <td>1993565</td>\n",
       "      <td>#Woman-Owned Business, #Schooling, #Elderly, #...</td>\n",
       "      <td>Woman-Owned Business Schooling Elderly Parent</td>\n",
       "      <td>0.000040</td>\n",
       "      <td>0.623019</td>\n",
       "    </tr>\n",
       "    <tr>\n",
       "      <th>4</th>\n",
       "      <td>2064272</td>\n",
       "      <td>NaN</td>\n",
       "      <td>nan</td>\n",
       "      <td>1.000000</td>\n",
       "      <td>-0.000058</td>\n",
       "    </tr>\n",
       "  </tbody>\n",
       "</table>\n",
       "</div>"
      ],
      "text/plain": [
       "   LOAN_ID                                               TAGS  \\\n",
       "0  2041445                                                NaN   \n",
       "1  1944435  #Animals, #Repeat Borrower, #Schooling, #Woman...   \n",
       "2  2083354     #Parent, #Single Parent, #Woman-Owned Business   \n",
       "3  1993565  #Woman-Owned Business, #Schooling, #Elderly, #...   \n",
       "4  2064272                                                NaN   \n",
       "\n",
       "                                          fixed_TAGS  TFIDF_1_TAGS  \\\n",
       "0                                                nan      1.000000   \n",
       "1  Animals Repeat Borrower Schooling Woman-Owned ...      0.000041   \n",
       "2          Parent Single Parent Woman-Owned Business      0.000038   \n",
       "3      Woman-Owned Business Schooling Elderly Parent      0.000040   \n",
       "4                                                nan      1.000000   \n",
       "\n",
       "   TFIDF_2_TAGS  \n",
       "0     -0.000058  \n",
       "1      0.666592  \n",
       "2      0.585813  \n",
       "3      0.623019  \n",
       "4     -0.000058  "
      ]
     },
     "execution_count": 10,
     "metadata": {},
     "output_type": "execute_result"
    }
   ],
   "source": [
    "df_test_tfidf_tags.head()"
   ]
  },
  {
   "cell_type": "markdown",
   "id": "5c4a592d-f448-465e-820d-5bc89e8b4130",
   "metadata": {},
   "source": [
    "## Sentence Feature"
   ]
  },
  {
   "cell_type": "code",
   "execution_count": 11,
   "id": "863a12b5-7e94-4a94-bec6-48cfd1778155",
   "metadata": {},
   "outputs": [
    {
     "name": "stdout",
     "output_type": "stream",
     "text": [
      "CleanSentences complete\n",
      "CreateSentenceFeatures complete\n"
     ]
    }
   ],
   "source": [
    "df_train = df_train_origin.copy()\n",
    "\n",
    "ins_clean = CleanSentences(config=config)\n",
    "df_train_sent = ins_clean.execute(dataframe=df_train)\n",
    "print(\"CleanSentences complete\")\n",
    "\n",
    "ins_sent_features = CreateSentenceFeatures(config=config)\n",
    "df_train_sent = ins_sent_features.execute(dataframe=df_train_sent)\n",
    "print(\"CreateSentenceFeatures complete\")"
   ]
  },
  {
   "cell_type": "code",
   "execution_count": 12,
   "id": "4ceb62ad-bc87-4fa7-90c5-eaaba226a9ab",
   "metadata": {},
   "outputs": [
    {
     "name": "stdout",
     "output_type": "stream",
     "text": [
      "CleanSentences complete\n",
      "CreateSentenceFeatures complete\n"
     ]
    }
   ],
   "source": [
    "df_test = df_test_origin.copy()\n",
    "\n",
    "ins_clean = CleanSentences(config=config)\n",
    "df_test_sent = ins_clean.execute(dataframe=df_test)\n",
    "print(\"CleanSentences complete\")\n",
    "\n",
    "ins_sent_features = CreateSentenceFeatures(config=config)\n",
    "df_test_sent = ins_sent_features.execute(dataframe=df_test_sent)\n",
    "print(\"CreateSentenceFeatures complete\")"
   ]
  },
  {
   "cell_type": "markdown",
   "id": "6c2bf4f8-e474-4099-879e-8a1ad6488506",
   "metadata": {},
   "source": [
    "## Merge"
   ]
  },
  {
   "cell_type": "code",
   "execution_count": 17,
   "id": "8ee3edee-eaf8-42ce-b425-ac5722ed8a3e",
   "metadata": {},
   "outputs": [
    {
     "name": "stdout",
     "output_type": "stream",
     "text": [
      "train merge complete\n",
      "test merge complete\n"
     ]
    }
   ],
   "source": [
    "# merge\n",
    "df_train = pd.merge(df_train, df_train_sent, how=\"left\", on=\"LOAN_ID\")\n",
    "df_train = pd.merge(df_train, df_train_tfidf_tags[[\"LOAN_ID\", \"TFIDF_1_TAGS\", \"TFIDF_2_TAGS\"]], how=\"left\", on=\"LOAN_ID\")\n",
    "df_train = pd.merge(df_train, df_train_tfidf_loanuse[[\"LOAN_ID\", \"TFIDF_1_LOAN_USE\", \"TFIDF_2_LOAN_USE\"]], how=\"left\", on=\"LOAN_ID\")\n",
    "print(\"train merge complete\")\n",
    "\n",
    "\n",
    "# merge\n",
    "df_test = pd.merge(df_test, df_test_sent, how=\"left\", on=\"LOAN_ID\")\n",
    "df_test = pd.merge(df_test, df_test_tfidf_tags[[\"LOAN_ID\", \"TFIDF_1_TAGS\", \"TFIDF_2_TAGS\"]], how=\"left\", on=\"LOAN_ID\")\n",
    "df_test = pd.merge(df_test, df_test_tfidf_loanuse[[\"LOAN_ID\", \"TFIDF_1_LOAN_USE\", \"TFIDF_2_LOAN_USE\"]], how=\"left\", on=\"LOAN_ID\")\n",
    "print(\"test merge complete\")"
   ]
  },
  {
   "cell_type": "code",
   "execution_count": 18,
   "id": "17faca2f-557a-4ca6-9876-b787625752d4",
   "metadata": {},
   "outputs": [],
   "source": [
    "# config読み込み\n",
    "config = ConfigManager(config_path=\"../config/add_tfidf_setting.yaml\")"
   ]
  },
  {
   "cell_type": "code",
   "execution_count": 19,
   "id": "61387c3d-130e-40df-a360-665e0c723144",
   "metadata": {},
   "outputs": [
    {
     "name": "stdout",
     "output_type": "stream",
     "text": [
      "Memory usage of dataframe is 41.81 MB\n",
      "Memory usage after optimization is: 19.40 MB\n",
      "Decreased by 53.6%\n",
      "Memory usage of dataframe is 41.33 MB\n",
      "Memory usage after optimization is: 19.21 MB\n",
      "Decreased by 53.5%\n"
     ]
    }
   ],
   "source": [
    "# データ型を修正しメモリを削減する\n",
    "df_train = reduce_mem_usage(df_train)\n",
    "df_test = reduce_mem_usage(df_test)\n",
    "\n",
    "# dtypeのフォーマット修正\n",
    "df_train = format_df(df_train, dtype_definition=config.feature_columns)\n",
    "df_test = format_df(df_test, dtype_definition=config.feature_columns)\n",
    "\n",
    "# 目的変数作成\n",
    "df_train[\"LOAN_AMOUNT_log1p\"] = np.log1p(df_train[\"LOAN_AMOUNT\"])"
   ]
  },
  {
   "cell_type": "markdown",
   "id": "c65a34bd-bbea-4daa-aaf0-ef61746fca6d",
   "metadata": {},
   "source": [
    "## BaseLine"
   ]
  },
  {
   "cell_type": "markdown",
   "id": "575ce1da-0874-4625-a570-eb204899c855",
   "metadata": {},
   "source": [
    "### 方針\n",
    "- 特徴量\n",
    "    - ORIGINAL_LANGUAGE: category\n",
    "    - ACTIVITY_NAME: category\n",
    "    - SECTOR_NAME: category\n",
    "    - COUNTRY_NAME: category\n",
    "    - CURRENCY_POLICY: category\n",
    "    - CURRENCY: category\n",
    "    - REPAYMENT_INTERVAL: category\n",
    "- 目的変数\n",
    "    - LOAN_AMOUNT_log1p: LOAN_AMOUNTを対数変換させたもの。対数取るとおおよそ正規分布になる\n",
    "- 損失関数\n",
    "    - RMSE: 評価関数はMAEだけど正解/予測の比率を1に近づければMAEも低くなるのではという発想\n",
    "- モデル\n",
    "    - LightGBM\n",
    "- CV\n",
    "    - KFold\n",
    "- 結果\n",
    "    - 上記だけでは分割できないため、同じ結果になっているLOAN＿IDが複数あった"
   ]
  },
  {
   "cell_type": "code",
   "execution_count": 21,
   "id": "f8b959b2-998b-4fe4-930f-197f14dde23c",
   "metadata": {},
   "outputs": [
    {
     "name": "stdout",
     "output_type": "stream",
     "text": [
      "train LOAN_AMOUNT_log1p ...\n",
      "Training until validation scores don't improve for 100 rounds\n",
      "Early stopping, best iteration is:\n",
      "[390]\ttrain's rmse: 0.381024\tvalid's rmse: 0.47173\n",
      "pred LOAN_AMOUNT_log1p ...\n",
      "■ target_col=LOAN_AMOUNT_log1p | cv_num=0 | mae_score=262.2582\n",
      "pred LOAN_AMOUNT_log1p ...\n",
      "======================================================================\n",
      "Training until validation scores don't improve for 100 rounds\n",
      "Early stopping, best iteration is:\n",
      "[346]\ttrain's rmse: 0.388455\tvalid's rmse: 0.470013\n",
      "pred LOAN_AMOUNT_log1p ...\n",
      "■ target_col=LOAN_AMOUNT_log1p | cv_num=1 | mae_score=263.1477\n",
      "pred LOAN_AMOUNT_log1p ...\n",
      "======================================================================\n",
      "Training until validation scores don't improve for 100 rounds\n",
      "Early stopping, best iteration is:\n",
      "[276]\ttrain's rmse: 0.402295\tvalid's rmse: 0.471802\n",
      "pred LOAN_AMOUNT_log1p ...\n",
      "■ target_col=LOAN_AMOUNT_log1p | cv_num=2 | mae_score=263.5173\n",
      "pred LOAN_AMOUNT_log1p ...\n",
      "======================================================================\n",
      "Training until validation scores don't improve for 100 rounds\n",
      "Early stopping, best iteration is:\n",
      "[319]\ttrain's rmse: 0.394139\tvalid's rmse: 0.469255\n",
      "pred LOAN_AMOUNT_log1p ...\n",
      "■ target_col=LOAN_AMOUNT_log1p | cv_num=3 | mae_score=260.7784\n",
      "pred LOAN_AMOUNT_log1p ...\n",
      "======================================================================\n",
      "Training until validation scores don't improve for 100 rounds\n",
      "Early stopping, best iteration is:\n",
      "[279]\ttrain's rmse: 0.401801\tvalid's rmse: 0.468791\n",
      "pred LOAN_AMOUNT_log1p ...\n",
      "■ target_col=LOAN_AMOUNT_log1p | cv_num=4 | mae_score=262.9910\n",
      "pred LOAN_AMOUNT_log1p ...\n",
      "======================================================================\n",
      "~~~~~~~~~~~~~~~~~~~~~~~~~~~~~~~~~~~~~~~~~~~~~~~~~~~~~~~~~~~~~~~~~~~~~~\n",
      "■ target_col=LOAN_AMOUNT_log1p | mae_score=262.5385\n"
     ]
    }
   ],
   "source": [
    "model_set = {}\n",
    "importance_set = {}\n",
    "evals_set = {}\n",
    "df_val_set = {}\n",
    "df_test_set = {}\n",
    "df_val_list = []\n",
    "df_test_list = []\n",
    "\n",
    "print(f\"train {config.target} ...\")\n",
    "# インスタンス生成\n",
    "ins_lgb_train = TrainLGBModule(config=config, target=config.target, exec_advasarial_validation=False)\n",
    "ins_lgb_val_pred = PredictModule(config=config, target=config.target, model_type=\"lightgbm\", is_test=False, clip=False)\n",
    "ins_lgb_test_pred = PredictModule(config=config, target=config.target, model_type=\"lightgbm\", is_test=True, clip=False)\n",
    "\n",
    "# kfolds\n",
    "folds_idx = make_KFold(\n",
    "    train_x=df_train,\n",
    "    train_y=df_train[config.target],\n",
    "    n_splits=config.n_splits,\n",
    "    random_state=config.random_state\n",
    ")\n",
    "# 学習\n",
    "for cv_num, (tr_idx, va_idx) in enumerate(folds_idx):\n",
    "    df_train_t, df_train_v = df_train.loc[tr_idx, :], df_train.loc[va_idx, :]\n",
    "    model_lgb, df_imp_lgb, evals_result_lgb = ins_lgb_train.train_model(train=df_train_t, valid=df_train_v, have_weight=False)\n",
    "    # dataset への保存\n",
    "    model_set[f\"{config.target}_{cv_num}\"] = model_lgb\n",
    "    importance_set[f\"{config.target}_{cv_num}\"] = df_imp_lgb\n",
    "    evals_set[f\"{config.target}_{cv_num}\"] = evals_result_lgb\n",
    "    # validationデータを予測\n",
    "    df_val_pred_lgb = ins_lgb_val_pred.predict(model=model_lgb, test_df=df_train_v, cv_num=cv_num)\n",
    "    df_val = add_true_for_valid(origin_df=df_train_v, pred_df=df_val_pred_lgb, target=config.target, cv_num=cv_num, config=config)\n",
    "    use_cols = [f\"true_{config.target}\", f\"pred_{config.target}\"]\n",
    "    df_val[f\"true_{config.target}_expm1y\"] = np.expm1(df_val[f\"true_{config.target}\"])\n",
    "    df_val[f\"pred_{config.target}_expm1y\"] = np.expm1(df_val[f\"pred_{config.target}\"])\n",
    "    mae_score = calc_MAE(\n",
    "        y_true=df_val[f\"true_{config.target}_expm1y\"],\n",
    "        y_pred=df_val[f\"pred_{config.target}_expm1y\"]\n",
    "    )\n",
    "    print(f\"■ target_col={config.target} | cv_num={cv_num} | mae_score={mae_score:.4f}\")\n",
    "    df_val_set[f\"{config.target}_{cv_num}\"] = df_val\n",
    "    df_val_list.append(df_val)\n",
    "    # testデータを予測\n",
    "    df_test_pred_lgb = ins_lgb_test_pred.predict(model=model_lgb, test_df=df_test, cv_num=cv_num)\n",
    "    df_test_pred_lgb[f\"pred_{config.target}_expm1y\"] = np.expm1(df_test_pred_lgb[f\"pred_{config.target}\"])\n",
    "    df_test_set[f\"{config.target}_{cv_num}\"] = df_test_pred_lgb\n",
    "    df_test_list.append(df_test_pred_lgb)\n",
    "    print(\"=\" * 70)\n",
    "\n",
    "# validationデータ全体のcvスコア\n",
    "print(\"~\" * 70)\n",
    "df_valid_results = pd.concat(df_val_list, ignore_index=True, sort=False)\n",
    "mae_score_all = calc_MAE(\n",
    "    y_true=df_valid_results[f\"true_{config.target}_expm1y\"],\n",
    "    y_pred=df_valid_results[f\"pred_{config.target}_expm1y\"]\n",
    ")\n",
    "print(f\"■ target_col={config.target} | mae_score={mae_score_all:.4f}\")"
   ]
  },
  {
   "cell_type": "code",
   "execution_count": 22,
   "id": "6961d21c-7057-4457-87af-6e1053ec7546",
   "metadata": {},
   "outputs": [
    {
     "data": {
      "image/png": "[encoded data removed]",
      "text/plain": [
       "<Figure size 432x648 with 1 Axes>"
      ]
     },
     "metadata": {
      "needs_background": "light"
     },
     "output_type": "display_data"
    }
   ],
   "source": [
    "df_imp_ = df_imp_lgb.sort_values(\"gain\", ascending=False)\n",
    "plt.figure(figsize=(6, 9))\n",
    "sns.barplot(x=df_imp_[\"gain\"], y=df_imp_[\"feature\"]);"
   ]
  },
  {
   "cell_type": "code",
   "execution_count": 23,
   "id": "46eb4afc-cbcd-4778-9cff-3dc0abff6c0e",
   "metadata": {},
   "outputs": [],
   "source": [
    "# cv回数分のtest結果の中央値を最終結果とする\n",
    "df_test_concat = pd.concat(df_test_list, ignore_index=True, sort=False)\n",
    "df_test_results = df_test_concat.groupby(\"LOAN_ID\", as_index=False)[f\"pred_{config.target}_expm1y\"].mean()\n",
    "df_test_results.columns = [\"LOAN_ID\", \"LOAN_AMOUNT\"]\n",
    "df_sample_sub = pd.merge(df_sample.drop(\"LOAN_AMOUNT\", axis=1), df_test_results, how=\"left\", on=\"LOAN_ID\")\n",
    "df_sample_sub.to_csv(os.path.join(config.output_path, \"submission_4.csv\"), encoding=\"utf-8-sig\", index=False)"
   ]
  },
  {
   "cell_type": "code",
   "execution_count": 24,
   "id": "72e7c496-0d0d-4604-891d-a83860824adf",
   "metadata": {},
   "outputs": [
    {
     "data": {
      "text/plain": [
       "<AxesSubplot:ylabel='Frequency'>"
      ]
     },
     "execution_count": 24,
     "metadata": {},
     "output_type": "execute_result"
    },
    {
     "data": {
      "image/png": "[encoded data removed]",
      "text/plain": [
       "<Figure size 432x288 with 1 Axes>"
      ]
     },
     "metadata": {
      "needs_background": "light"
     },
     "output_type": "display_data"
    }
   ],
   "source": [
    "df_sample_sub[\"LOAN_AMOUNT\"].plot(kind=\"hist\")"
   ]
  },
  {
   "cell_type": "code",
   "execution_count": 25,
   "id": "23f38ceb-e460-4528-ba7e-cdbae8342a37",
   "metadata": {},
   "outputs": [],
   "source": [
    "from torch.utils.data import Dataset\n",
    "from torchvision.io import read_image"
   ]
  },
  {
   "cell_type": "code",
   "execution_count": 26,
   "id": "788e607d-e2fe-4711-9cf0-e172d33ab6a8",
   "metadata": {},
   "outputs": [],
   "source": [
    "import zipfile"
   ]
  },
  {
   "cell_type": "code",
   "execution_count": 62,
   "id": "140637d7-6cd2-4ed6-81a3-5d8aab2ec4df",
   "metadata": {},
   "outputs": [
    {
     "name": "stdout",
     "output_type": "stream",
     "text": [
      "2833245\n",
      "2761700\n",
      "2877141\n",
      "2872301\n",
      "2855261\n",
      "2745631\n",
      "3305379\n",
      "3332238\n",
      "2954750\n"
     ]
    }
   ],
   "source": [
    "import zipfile\n",
    "\n",
    "# zipファイルのパス\n",
    "zip_path = '../input/train_images.zip'\n",
    "\n",
    "# zipの読み込み\n",
    "with zipfile.ZipFile(zip_path, 'r') as zip_file:\n",
    "    # zipファイル内の各ファイルについてループ\n",
    "    tt = zip_file.infolist()[:10]\n",
    "    # for info in enumerate(zip_file.infolist()):\n",
    "    #     # 「zipファイル名/」については処理をしない\n",
    "    #     if (info.filename != 'data/'):\n",
    "with zipfile.ZipFile(zip_path, \"r\") as zip_file:\n",
    "    # zipファイル内の各ファイルについてループ\n",
    "    for idx, file_info in enumerate(zip_file.infolist()):\n",
    "        # 1つ目はzipファイル名のみのためパス\n",
    "        if idx > 0 and idx < 10:\n",
    "        # if idx > 0:\n",
    "            file_name = file_info.filename\n",
    "            file_id = int(file_name.split(\"/\")[1].split(\".\")[0])"
   ]
  },
  {
   "cell_type": "code",
   "execution_count": 63,
   "id": "0b6b1c7e-4b1c-42b6-b16d-22be309c0e68",
   "metadata": {},
   "outputs": [
    {
     "data": {
      "text/plain": [
       "9.210440366976517"
      ]
     },
     "execution_count": 63,
     "metadata": {},
     "output_type": "execute_result"
    }
   ],
   "source": [
    "df = df_train_origin[[\"LOAN_ID\", \"IMAGE_ID\", \"LOAN_AMOUNT\"]].copy()\n",
    "np.log1p(df[\"LOAN_AMOUNT\"]).max()"
   ]
  },
  {
   "cell_type": "code",
   "execution_count": 55,
   "id": "4ad53cae-690a-4ec6-b416-091b599614da",
   "metadata": {},
   "outputs": [
    {
     "data": {
      "text/plain": [
       "'../input/'"
      ]
     },
     "execution_count": 55,
     "metadata": {},
     "output_type": "execute_result"
    }
   ],
   "source": [
    "config.input_path"
   ]
  },
  {
   "cell_type": "code",
   "execution_count": 40,
   "id": "e8b1db6a-dce4-4fea-b404-6d2d9152a61c",
   "metadata": {},
   "outputs": [
    {
     "ename": "TypeError",
     "evalue": "'str' object is not callable",
     "output_type": "error",
     "traceback": [
      "\u001b[0;31m---------------------------------------------------------------------------\u001b[0m",
      "\u001b[0;31mTypeError\u001b[0m                                 Traceback (most recent call last)",
      "Input \u001b[0;32mIn [40]\u001b[0m, in \u001b[0;36m<cell line: 2>\u001b[0;34m()\u001b[0m\n\u001b[1;32m      1\u001b[0m \u001b[38;5;28;01mfrom\u001b[39;00m \u001b[38;5;21;01mtorchvision\u001b[39;00m\u001b[38;5;21;01m.\u001b[39;00m\u001b[38;5;21;01mio\u001b[39;00m \u001b[38;5;28;01mimport\u001b[39;00m read_image\n\u001b[0;32m----> 2\u001b[0m image \u001b[38;5;241m=\u001b[39m read_image(\u001b[43mtt\u001b[49m\u001b[43m[\u001b[49m\u001b[38;5;241;43m0\u001b[39;49m\u001b[43m]\u001b[49m\u001b[38;5;241;43m.\u001b[39;49m\u001b[43mfilename\u001b[49m\u001b[43m(\u001b[49m\u001b[43m)\u001b[49m)\n",
      "\u001b[0;31mTypeError\u001b[0m: 'str' object is not callable"
     ]
    }
   ],
   "source": [
    "from torchvision.io import read_image\n",
    "image = read_image(tt[0].filename())"
   ]
  },
  {
   "cell_type": "code",
   "execution_count": null,
   "id": "b3ac1141-da99-4c72-a170-6ad99fb8ef53",
   "metadata": {},
   "outputs": [],
   "source": []
  }
 ],
 "metadata": {
  "kernelspec": {
   "display_name": "Python 3 (ipykernel)",
   "language": "python",
   "name": "python3"
  },
  "language_info": {
   "codemirror_mode": {
    "name": "ipython",
    "version": 3
   },
   "file_extension": ".py",
   "mimetype": "text/x-python",
   "name": "python",
   "nbconvert_exporter": "python",
   "pygments_lexer": "ipython3",
   "version": "3.10.1"
  }
 },
 "nbformat": 4,
 "nbformat_minor": 5
}
