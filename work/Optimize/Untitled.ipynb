{
 "cells": [
  {
   "cell_type": "code",
   "execution_count": 1,
   "id": "6406638e-7032-4a82-824c-0ac681275835",
   "metadata": {},
   "outputs": [],
   "source": [
    "import pulp"
   ]
  },
  {
   "cell_type": "code",
   "execution_count": 5,
   "id": "3663f756-70d7-4b81-b8cb-90c8e97a9235",
   "metadata": {},
   "outputs": [
    {
     "name": "stdout",
     "output_type": "stream",
     "text": [
      "Welcome to the CBC MILP Solver \n",
      "Version: 2.10.3 \n",
      "Build Date: Dec 15 2019 \n",
      "\n",
      "command line - /Users/saitouteruaki/.local/share/virtualenvs/data_science-EJAMj-NW/lib/python3.10/site-packages/pulp/apis/../solverdir/cbc/osx/64/cbc /var/folders/kf/20027hj546bdg7ty4bm3610m0000gn/T/b757dfd16bc54c049b7a9e05e0b39c4d-pulp.mps max timeMode elapsed branch printingOptions all solution /var/folders/kf/20027hj546bdg7ty4bm3610m0000gn/T/b757dfd16bc54c049b7a9e05e0b39c4d-pulp.sol (default strategy 1)\n",
      "At line 2 NAME          MODEL\n",
      "At line 3 ROWS\n",
      "At line 7 COLUMNS\n",
      "At line 13 RHS\n",
      "At line 16 BOUNDS\n",
      "At line 20 ENDATA\n",
      "Problem MODEL has 2 rows, 3 columns and 4 elements\n",
      "Coin0008I MODEL read with 0 errors\n",
      "Option for timeMode changed from cpu to elapsed\n",
      "Presolve 0 (-2) rows, 0 (-3) columns and 0 (-4) elements\n",
      "Empty problem - 0 rows, 0 columns and 0 elements\n",
      "Optimal - objective value -0\n",
      "After Postsolve, objective 0, infeasibilities - dual 0 (0), primal 0 (0)\n",
      "Optimal objective 0 - 0 iterations time 0.002, Presolve 0.00\n",
      "Option for printingOptions changed from normal to all\n",
      "Total time (CPU seconds):       0.00   (Wallclock seconds):       0.00\n",
      "\n",
      "Status: Optimal\n",
      "x= 2.0\n",
      "y= 8.0\n"
     ]
    }
   ],
   "source": [
    "problem = pulp.LpProblem(\n",
    "    \"SLE\", pulp.LpMaximize)\n",
    "\n",
    "x = pulp.LpVariable(\n",
    "    \"x\", cat=\"Continuous\")\n",
    "y = pulp.LpVariable(\n",
    "    \"y\", cat=\"Continuous\")\n",
    "\n",
    "problem += 120 * x + 150 * y == 1440\n",
    "problem += x + y == 10\n",
    "\n",
    "status = problem.solve()\n",
    "print(\"Status:\", pulp.LpStatus[status])\n",
    "\n",
    "print(\"x=\", x.value())\n",
    "print(\"y=\", y.value())"
   ]
  },
  {
   "cell_type": "markdown",
   "id": "ac06a93e-9d3a-41e9-bcbe-df437ea8e948",
   "metadata": {},
   "source": [
    "## 2.2"
   ]
  },
  {
   "cell_type": "markdown",
   "id": "4040973b-d900-45a5-9ece-d49d270a4a22",
   "metadata": {},
   "source": [
    "* 製造pの製造料をx kg, 製造qの製造料をy kg\n",
    "    * 1 * x + 3 * y <= 30\n",
    "    * 2 * x + 1 * y <= 40\n",
    "    * x >= 0\n",
    "    * y >= 0\n",
    "    * max(1 * x + 2 * y)"
   ]
  },
  {
   "cell_type": "code",
   "execution_count": 7,
   "id": "b847c9c9-545f-4eca-9949-1a393beadfea",
   "metadata": {},
   "outputs": [
    {
     "name": "stdout",
     "output_type": "stream",
     "text": [
      "Welcome to the CBC MILP Solver \n",
      "Version: 2.10.3 \n",
      "Build Date: Dec 15 2019 \n",
      "\n",
      "command line - /Users/saitouteruaki/.local/share/virtualenvs/data_science-EJAMj-NW/lib/python3.10/site-packages/pulp/apis/../solverdir/cbc/osx/64/cbc /var/folders/kf/20027hj546bdg7ty4bm3610m0000gn/T/50ee27934c7943638f49df93780af484-pulp.mps max timeMode elapsed branch printingOptions all solution /var/folders/kf/20027hj546bdg7ty4bm3610m0000gn/T/50ee27934c7943638f49df93780af484-pulp.sol (default strategy 1)\n",
      "At line 2 NAME          MODEL\n",
      "At line 3 ROWS\n",
      "At line 9 COLUMNS\n",
      "At line 18 RHS\n",
      "At line 23 BOUNDS\n",
      "At line 26 ENDATA\n",
      "Problem MODEL has 4 rows, 2 columns and 6 elements\n",
      "Coin0008I MODEL read with 0 errors\n",
      "Option for timeMode changed from cpu to elapsed\n",
      "Presolve 2 (-2) rows, 2 (0) columns and 4 (-2) elements\n",
      "0  Obj -0 Dual inf 2.999998 (2)\n",
      "2  Obj 26\n",
      "Optimal - objective value 26\n",
      "After Postsolve, objective 26, infeasibilities - dual 0 (0), primal 0 (0)\n",
      "Optimal objective 26 - 2 iterations time 0.002, Presolve 0.00\n",
      "Option for printingOptions changed from normal to all\n",
      "Total time (CPU seconds):       0.00   (Wallclock seconds):       0.00\n",
      "\n",
      "Status: Optimal\n",
      "x= 18.0\n",
      "y= 4.0\n",
      "obj= 26.0\n"
     ]
    }
   ],
   "source": [
    "import pulp\n",
    "\n",
    "problem = pulp.LpProblem(\n",
    "    \"LP\", pulp.LpMaximize)\n",
    "\n",
    "x = pulp.LpVariable(\n",
    "    \"x\", cat=\"Continuous\")\n",
    "y = pulp.LpVariable(\n",
    "    \"y\", cat=\"Continuous\")\n",
    "\n",
    "# 条件式\n",
    "problem += 1 * x + 3 * y <= 30\n",
    "problem += 2 * x + 1 * y <= 40\n",
    "problem += x >= 0\n",
    "problem += y >= 0\n",
    "# 目的関数\n",
    "problem += x + 2 * y\n",
    "\n",
    "status = problem.solve()\n",
    "print(\"Status:\", pulp.LpStatus[status])\n",
    "\n",
    "print(\"x=\", x.value())\n",
    "print(\"y=\", y.value())\n",
    "print(\"obj=\", problem.objective.value())"
   ]
  },
  {
   "cell_type": "markdown",
   "id": "79daed1e-99f5-49f4-acac-cb345f7bfe7a",
   "metadata": {},
   "source": [
    "## 2-3"
   ]
  },
  {
   "cell_type": "code",
   "execution_count": null,
   "id": "e31694a5-9cb4-4ba0-b501-157fd9c921e1",
   "metadata": {},
   "outputs": [],
   "source": []
  }
 ],
 "metadata": {
  "kernelspec": {
   "display_name": "Python 3 (ipykernel)",
   "language": "python",
   "name": "python3"
  },
  "language_info": {
   "codemirror_mode": {
    "name": "ipython",
    "version": 3
   },
   "file_extension": ".py",
   "mimetype": "text/x-python",
   "name": "python",
   "nbconvert_exporter": "python",
   "pygments_lexer": "ipython3",
   "version": "3.10.1"
  }
 },
 "nbformat": 4,
 "nbformat_minor": 5
}
